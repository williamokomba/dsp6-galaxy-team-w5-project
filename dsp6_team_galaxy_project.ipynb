{
  "nbformat": 4,
  "nbformat_minor": 0,
  "metadata": {
    "colab": {
      "name": "dsp6_team_galaxy_project",
      "provenance": [],
      "collapsed_sections": [],
      "authorship_tag": "ABX9TyMcFSnYQgj6vHW1ZK87PpV6",
      "include_colab_link": true
    },
    "kernelspec": {
      "name": "python3",
      "display_name": "Python 3"
    }
  },
  "cells": [
    {
      "cell_type": "markdown",
      "metadata": {
        "id": "view-in-github",
        "colab_type": "text"
      },
      "source": [
        "<a href=\"https://colab.research.google.com/github/williamokomba/dsp6-galaxy-team-w5-project/blob/master/dsp6_team_galaxy_project.ipynb\" target=\"_parent\"><img src=\"https://colab.research.google.com/assets/colab-badge.svg\" alt=\"Open In Colab\"/></a>"
      ]
    },
    {
      "cell_type": "markdown",
      "metadata": {
        "id": "-hNDiBqwNEE5",
        "colab_type": "text"
      },
      "source": [
        "## **Moringa prep Data science team project: week 5**\n"
      ]
    },
    {
      "cell_type": "markdown",
      "metadata": {
        "id": "oWlJeCJ6Q4_c",
        "colab_type": "text"
      },
      "source": [
        "**Team members**\n",
        "\n",
        "1.   william Okomba\n",
        "2.   Janet Mumo\n",
        "3.   Joseph Nyingi\n",
        "4.   Winfred Njoroge\n",
        "\n"
      ]
    },
    {
      "cell_type": "markdown",
      "metadata": {
        "id": "fH0oS0qCOlPR",
        "colab_type": "text"
      },
      "source": [
        "**Objective**\n",
        "---\n",
        "Identify the most populated and densely populated per square kilometer county as per 2019 Census in Kenya.\n"
      ]
    },
    {
      "cell_type": "markdown",
      "metadata": {
        "id": "Mxy8swNbDdsx",
        "colab_type": "text"
      },
      "source": [
        "Dataset provided\n",
        "\n",
        "\n",
        "1.  Population by sex and County[link text](https://open.africa/dataset/9b94fe50-9d75-4b92-be00-6354c6e6cc88/resource/384b93cf-ede0-4e05-9f36-a8e8e09b21a7/download/kenya-population-by-sex-and-county.csv)\n",
        "2.   Population and household[link text](https://open.africa/dataset/9b94fe50-9d75-4b92-be00-6354c6e6cc88/resource/111a3d9d-c676-4d5a-9600-d5acb1250b87/download/population-houseshold-data.csv)\n",
        "3.   Kenya land area by population[link text](https://open.africa/dataset/9b94fe50-9d75-4b92-be00-6354c6e6cc88/resource/da01bf5a-61d7-43e5-9009-7b54e249e984/download/kenya-population-land-area-population-density_by_county.csv)\n",
        "4.  data source:Open Africa [link text](https://africaopendata.org/dataset/2019-kenya-population-and-housing-census)\n",
        "5. note: we combined the 3 tables using excel to come up with one Dataset 2019_population.csv [link text](https://docs.google.com/spreadsheets/d/1ReZwMR3ZUlOS1WL06G-OeKqHx7l78Sscogs-a-DI8Yo/edit?usp=sharing)\n",
        "\n",
        "\n"
      ]
    },
    {
      "cell_type": "markdown",
      "metadata": {
        "id": "8xMhkcHudPuy",
        "colab_type": "text"
      },
      "source": [
        "Main steps to be followed\n",
        "\n",
        "*   load the dataset into python\n",
        "*   clean datasets\n",
        "1.   Identify the total population in 2019 census\n",
        "2.  Identify the most populated Counties as per the 2019 Census.\n",
        "3.  Identify the most densely  populated county per sq.km.\n",
        "4.  Identify the county  with the highest average households\n",
        "5.  Identify the county with the highest land area per sqaure kilometer.\n",
        "\n",
        "bonus:\n",
        "7. indetify counties with the least densely  populated per sq.km\n",
        "8.  Identify the intersex gender distributed among counties\n",
        "\n",
        "\n",
        "\n",
        "\n",
        "\n",
        "\n",
        "\n",
        "\n",
        "\n",
        "\n",
        "\n",
        "\n",
        "\n",
        "\n",
        "\n",
        "\n",
        "\n",
        "\n",
        "\n",
        "\n",
        "\n",
        "\n",
        "\n",
        "\n",
        "\n",
        "\n"
      ]
    },
    {
      "cell_type": "markdown",
      "metadata": {
        "id": "-1jOCJFbs2K8",
        "colab_type": "text"
      },
      "source": [
        "##1.0 Importing our libraries"
      ]
    },
    {
      "cell_type": "code",
      "metadata": {
        "id": "N9QQ8lw6HqzA",
        "colab_type": "code",
        "colab": {}
      },
      "source": [
        "# Let's import the pandas library\n",
        "#\n",
        "import pandas as pd\n",
        "# as well as the Numpy library\n",
        "import numpy as np"
      ],
      "execution_count": 67,
      "outputs": []
    },
    {
      "cell_type": "markdown",
      "metadata": {
        "id": "Y59gtOYKtGK6",
        "colab_type": "text"
      },
      "source": [
        "##1.1 Reading the Dataset from our CSV file."
      ]
    },
    {
      "cell_type": "markdown",
      "metadata": {
        "id": "eOXpy7pi2bKw",
        "colab_type": "text"
      },
      "source": [
        "*The dataset we will use contains information about the 2019 Census - The kenyan population by sex land area, and household.*\n",
        "*   Dataset link or access [[link text](https://docs.google.com/spreadsheets/d/1_IaSym0s3LnRc3-KKpnUsnVJS3TPl7uJRYcPs04cuBo/edit?usp=sharing)]\n",
        "\n",
        "\n",
        "\n",
        "\n",
        "\n"
      ]
    },
    {
      "cell_type": "code",
      "metadata": {
        "id": "h9q9KiYkXGG_",
        "colab_type": "code",
        "colab": {}
      },
      "source": [
        "# Let's upload and read the data from the CSV file and create the dataframe to be used\n",
        "df1 = pd.read_csv(\"2019_population.csv\")"
      ],
      "execution_count": 78,
      "outputs": []
    },
    {
      "cell_type": "markdown",
      "metadata": {
        "id": "P-zApxt3tRyA",
        "colab_type": "text"
      },
      "source": [
        "##1.2 Previewing our Dataset"
      ]
    },
    {
      "cell_type": "code",
      "metadata": {
        "id": "PCk3nmzr0yxF",
        "colab_type": "code",
        "colab": {
          "base_uri": "https://localhost:8080/",
          "height": 272
        },
        "outputId": "f211402e-73e1-435f-b325-3024f83462e9"
      },
      "source": [
        "#a. Let's preview the first 5 rows of our data\n",
        "df = pd.read_csv(\"2019_population.csv\")\n",
        "df.head()"
      ],
      "execution_count": 69,
      "outputs": [
        {
          "output_type": "execute_result",
          "data": {
            "text/html": [
              "<div>\n",
              "<style scoped>\n",
              "    .dataframe tbody tr th:only-of-type {\n",
              "        vertical-align: middle;\n",
              "    }\n",
              "\n",
              "    .dataframe tbody tr th {\n",
              "        vertical-align: top;\n",
              "    }\n",
              "\n",
              "    .dataframe thead th {\n",
              "        text-align: right;\n",
              "    }\n",
              "</style>\n",
              "<table border=\"1\" class=\"dataframe\">\n",
              "  <thead>\n",
              "    <tr style=\"text-align: right;\">\n",
              "      <th></th>\n",
              "      <th>name</th>\n",
              "      <th>Population</th>\n",
              "      <th>Land Area (Sq. Km)</th>\n",
              "      <th>Population Density (No. per Sq. Km)</th>\n",
              "      <th>Male</th>\n",
              "      <th>Female</th>\n",
              "      <th>Intersex</th>\n",
              "      <th>Total_gender</th>\n",
              "      <th>No.of Households</th>\n",
              "      <th>Avg Household size</th>\n",
              "      <th>number</th>\n",
              "    </tr>\n",
              "  </thead>\n",
              "  <tbody>\n",
              "    <tr>\n",
              "      <th>0</th>\n",
              "      <td>Kenya</td>\n",
              "      <td>47564296</td>\n",
              "      <td>580876.3</td>\n",
              "      <td>82</td>\n",
              "      <td>23548056</td>\n",
              "      <td>24014716</td>\n",
              "      <td>1524</td>\n",
              "      <td>47564296</td>\n",
              "      <td>12143913</td>\n",
              "      <td>39</td>\n",
              "      <td>1</td>\n",
              "    </tr>\n",
              "    <tr>\n",
              "      <th>1</th>\n",
              "      <td>Mombasa</td>\n",
              "      <td>1208333</td>\n",
              "      <td>219.9</td>\n",
              "      <td>5495</td>\n",
              "      <td>610257</td>\n",
              "      <td>598046</td>\n",
              "      <td>30</td>\n",
              "      <td>1208333</td>\n",
              "      <td>378422</td>\n",
              "      <td>31</td>\n",
              "      <td>2</td>\n",
              "    </tr>\n",
              "    <tr>\n",
              "      <th>2</th>\n",
              "      <td>Kwale</td>\n",
              "      <td>866820</td>\n",
              "      <td>8267.1</td>\n",
              "      <td>105</td>\n",
              "      <td>425121</td>\n",
              "      <td>441681</td>\n",
              "      <td>18</td>\n",
              "      <td>866820</td>\n",
              "      <td>173176</td>\n",
              "      <td>50</td>\n",
              "      <td>3</td>\n",
              "    </tr>\n",
              "    <tr>\n",
              "      <th>3</th>\n",
              "      <td>Kilifi</td>\n",
              "      <td>1453787</td>\n",
              "      <td>12539.7</td>\n",
              "      <td>116</td>\n",
              "      <td>704089</td>\n",
              "      <td>749673</td>\n",
              "      <td>25</td>\n",
              "      <td>1453787</td>\n",
              "      <td>298472</td>\n",
              "      <td>48</td>\n",
              "      <td>4</td>\n",
              "    </tr>\n",
              "    <tr>\n",
              "      <th>4</th>\n",
              "      <td>Tana River</td>\n",
              "      <td>315943</td>\n",
              "      <td>37950.5</td>\n",
              "      <td>8</td>\n",
              "      <td>158550</td>\n",
              "      <td>157391</td>\n",
              "      <td>2</td>\n",
              "      <td>315943</td>\n",
              "      <td>68242</td>\n",
              "      <td>46</td>\n",
              "      <td>5</td>\n",
              "    </tr>\n",
              "  </tbody>\n",
              "</table>\n",
              "</div>"
            ],
            "text/plain": [
              "         name  Population  ...  Avg Household size  number\n",
              "0       Kenya    47564296  ...                  39       1\n",
              "1     Mombasa     1208333  ...                  31       2\n",
              "2       Kwale      866820  ...                  50       3\n",
              "3      Kilifi     1453787  ...                  48       4\n",
              "4  Tana River      315943  ...                  46       5\n",
              "\n",
              "[5 rows x 11 columns]"
            ]
          },
          "metadata": {
            "tags": []
          },
          "execution_count": 69
        }
      ]
    },
    {
      "cell_type": "markdown",
      "metadata": {
        "id": "EDKHFeB0tq4o",
        "colab_type": "text"
      },
      "source": [
        "## 1.3 Accessing Information about our Dataset"
      ]
    },
    {
      "cell_type": "code",
      "metadata": {
        "id": "rWIHCLT98sga",
        "colab_type": "code",
        "colab": {
          "base_uri": "https://localhost:8080/",
          "height": 323
        },
        "outputId": "862653b7-aac9-4ed3-a8f0-fe11f3b37f7b"
      },
      "source": [
        "#b. Getting to know more about the dataset by accessing its information\n",
        "df.info()"
      ],
      "execution_count": 70,
      "outputs": [
        {
          "output_type": "stream",
          "text": [
            "<class 'pandas.core.frame.DataFrame'>\n",
            "RangeIndex: 48 entries, 0 to 47\n",
            "Data columns (total 11 columns):\n",
            " #   Column                               Non-Null Count  Dtype  \n",
            "---  ------                               --------------  -----  \n",
            " 0   name                                 48 non-null     object \n",
            " 1   Population                           48 non-null     int64  \n",
            " 2   Land Area (Sq. Km)                   48 non-null     float64\n",
            " 3   Population Density (No. per Sq. Km)  48 non-null     int64  \n",
            " 4   Male                                 48 non-null     int64  \n",
            " 5   Female                               48 non-null     int64  \n",
            " 6   Intersex                             48 non-null     int64  \n",
            " 7   Total_gender                         48 non-null     int64  \n",
            " 8   No.of Households                     48 non-null     int64  \n",
            " 9   Avg Household size                   48 non-null     int64  \n",
            " 10  number                               48 non-null     int64  \n",
            "dtypes: float64(1), int64(9), object(1)\n",
            "memory usage: 4.2+ KB\n"
          ],
          "name": "stdout"
        }
      ]
    },
    {
      "cell_type": "markdown",
      "metadata": {
        "id": "0I6UO1S6850y",
        "colab_type": "text"
      },
      "source": [
        "our dataset has 48 rows and 11 colunms, it contains floats, integers, and object/string and its 4.2kb of memory size."
      ]
    },
    {
      "cell_type": "code",
      "metadata": {
        "id": "0LRLI84_6i4g",
        "colab_type": "code",
        "colab": {}
      },
      "source": [
        "#converting data type\n",
        "df1.convert_dtypes().dtypes. inplace = True"
      ],
      "execution_count": 71,
      "outputs": []
    },
    {
      "cell_type": "code",
      "metadata": {
        "id": "2WfnBP2F6rbv",
        "colab_type": "code",
        "colab": {
          "base_uri": "https://localhost:8080/",
          "height": 221
        },
        "outputId": "7acc6129-5649-4a7c-be15-eff25bcf4697"
      },
      "source": [
        "df1.dtypes"
      ],
      "execution_count": 72,
      "outputs": [
        {
          "output_type": "execute_result",
          "data": {
            "text/plain": [
              "name                                    object\n",
              "Population                               int64\n",
              "Land Area (Sq. Km)                     float64\n",
              "Population Density (No. per Sq. Km)      int64\n",
              "Male                                     int64\n",
              "Female                                   int64\n",
              "Intersex                                 int64\n",
              "Total_gender                             int64\n",
              "No.of Households                         int64\n",
              "Avg Household size                       int64\n",
              "number                                   int64\n",
              "dtype: object"
            ]
          },
          "metadata": {
            "tags": []
          },
          "execution_count": 72
        }
      ]
    },
    {
      "cell_type": "markdown",
      "metadata": {
        "id": "sfT1Ms_2t5Ss",
        "colab_type": "text"
      },
      "source": [
        "## **2.0 Cleaning Dataset**"
      ]
    },
    {
      "cell_type": "markdown",
      "metadata": {
        "id": "tZNiutnnuawz",
        "colab_type": "text"
      },
      "source": [
        "## 2.1 validity"
      ]
    },
    {
      "cell_type": "code",
      "metadata": {
        "id": "-sM4UCazvryO",
        "colab_type": "code",
        "colab": {
          "base_uri": "https://localhost:8080/",
          "height": 85
        },
        "outputId": "a03bd643-d140-4c98-9619-295b307dad1f"
      },
      "source": [
        "#a: checking the colunms information\n",
        "df1.columns"
      ],
      "execution_count": 73,
      "outputs": [
        {
          "output_type": "execute_result",
          "data": {
            "text/plain": [
              "Index(['name', 'Population', 'Land Area (Sq. Km)',\n",
              "       'Population Density (No. per Sq. Km)', 'Male', 'Female', 'Intersex',\n",
              "       'Total_gender', 'No.of Households', 'Avg Household size', 'number'],\n",
              "      dtype='object')"
            ]
          },
          "metadata": {
            "tags": []
          },
          "execution_count": 73
        }
      ]
    },
    {
      "cell_type": "markdown",
      "metadata": {
        "id": "NJi7ZV3jfWhs",
        "colab_type": "text"
      },
      "source": [
        "This enable us to check for irrelevant colunms that we can do away with."
      ]
    },
    {
      "cell_type": "code",
      "metadata": {
        "id": "_mUXZNfnvuyD",
        "colab_type": "code",
        "colab": {
          "base_uri": "https://localhost:8080/",
          "height": 255
        },
        "outputId": "784f4b5e-5160-428a-b04b-3edd4a232bf6"
      },
      "source": [
        "#b: Irrelevant Data Observation\n",
        "# Data Cleaning Action: Dropping number colunms\n",
        "# Explanation: We won't need it during Analysis. No question to be answered requires that column\n",
        "df1 = df\n",
        "df1.drop(columns=[\"number\"],axis=1, inplace=True)\n",
        "df1.head()"
      ],
      "execution_count": 74,
      "outputs": [
        {
          "output_type": "execute_result",
          "data": {
            "text/html": [
              "<div>\n",
              "<style scoped>\n",
              "    .dataframe tbody tr th:only-of-type {\n",
              "        vertical-align: middle;\n",
              "    }\n",
              "\n",
              "    .dataframe tbody tr th {\n",
              "        vertical-align: top;\n",
              "    }\n",
              "\n",
              "    .dataframe thead th {\n",
              "        text-align: right;\n",
              "    }\n",
              "</style>\n",
              "<table border=\"1\" class=\"dataframe\">\n",
              "  <thead>\n",
              "    <tr style=\"text-align: right;\">\n",
              "      <th></th>\n",
              "      <th>name</th>\n",
              "      <th>Population</th>\n",
              "      <th>Land Area (Sq. Km)</th>\n",
              "      <th>Population Density (No. per Sq. Km)</th>\n",
              "      <th>Male</th>\n",
              "      <th>Female</th>\n",
              "      <th>Intersex</th>\n",
              "      <th>Total_gender</th>\n",
              "      <th>No.of Households</th>\n",
              "      <th>Avg Household size</th>\n",
              "    </tr>\n",
              "  </thead>\n",
              "  <tbody>\n",
              "    <tr>\n",
              "      <th>0</th>\n",
              "      <td>Kenya</td>\n",
              "      <td>47564296</td>\n",
              "      <td>580876.3</td>\n",
              "      <td>82</td>\n",
              "      <td>23548056</td>\n",
              "      <td>24014716</td>\n",
              "      <td>1524</td>\n",
              "      <td>47564296</td>\n",
              "      <td>12143913</td>\n",
              "      <td>39</td>\n",
              "    </tr>\n",
              "    <tr>\n",
              "      <th>1</th>\n",
              "      <td>Mombasa</td>\n",
              "      <td>1208333</td>\n",
              "      <td>219.9</td>\n",
              "      <td>5495</td>\n",
              "      <td>610257</td>\n",
              "      <td>598046</td>\n",
              "      <td>30</td>\n",
              "      <td>1208333</td>\n",
              "      <td>378422</td>\n",
              "      <td>31</td>\n",
              "    </tr>\n",
              "    <tr>\n",
              "      <th>2</th>\n",
              "      <td>Kwale</td>\n",
              "      <td>866820</td>\n",
              "      <td>8267.1</td>\n",
              "      <td>105</td>\n",
              "      <td>425121</td>\n",
              "      <td>441681</td>\n",
              "      <td>18</td>\n",
              "      <td>866820</td>\n",
              "      <td>173176</td>\n",
              "      <td>50</td>\n",
              "    </tr>\n",
              "    <tr>\n",
              "      <th>3</th>\n",
              "      <td>Kilifi</td>\n",
              "      <td>1453787</td>\n",
              "      <td>12539.7</td>\n",
              "      <td>116</td>\n",
              "      <td>704089</td>\n",
              "      <td>749673</td>\n",
              "      <td>25</td>\n",
              "      <td>1453787</td>\n",
              "      <td>298472</td>\n",
              "      <td>48</td>\n",
              "    </tr>\n",
              "    <tr>\n",
              "      <th>4</th>\n",
              "      <td>Tana River</td>\n",
              "      <td>315943</td>\n",
              "      <td>37950.5</td>\n",
              "      <td>8</td>\n",
              "      <td>158550</td>\n",
              "      <td>157391</td>\n",
              "      <td>2</td>\n",
              "      <td>315943</td>\n",
              "      <td>68242</td>\n",
              "      <td>46</td>\n",
              "    </tr>\n",
              "  </tbody>\n",
              "</table>\n",
              "</div>"
            ],
            "text/plain": [
              "         name  Population  ...  No.of Households  Avg Household size\n",
              "0       Kenya    47564296  ...          12143913                  39\n",
              "1     Mombasa     1208333  ...            378422                  31\n",
              "2       Kwale      866820  ...            173176                  50\n",
              "3      Kilifi     1453787  ...            298472                  48\n",
              "4  Tana River      315943  ...             68242                  46\n",
              "\n",
              "[5 rows x 10 columns]"
            ]
          },
          "metadata": {
            "tags": []
          },
          "execution_count": 74
        }
      ]
    },
    {
      "cell_type": "code",
      "metadata": {
        "id": "Uujr-hK0Svdl",
        "colab_type": "code",
        "colab": {
          "base_uri": "https://localhost:8080/",
          "height": 255
        },
        "outputId": "e938b1cb-f535-4e8c-d122-e7f13e4bddec"
      },
      "source": [
        "#c. Irrelevant Data Observation\n",
        "# Data Cleaning Action: Dropping kenya row\n",
        "# Explanation: this is not part of the name colunm, thus we dropped it.\n",
        "# dropping row\n",
        "df2 =df1.drop(df1.index[0])\n",
        "df2.head()"
      ],
      "execution_count": 75,
      "outputs": [
        {
          "output_type": "execute_result",
          "data": {
            "text/html": [
              "<div>\n",
              "<style scoped>\n",
              "    .dataframe tbody tr th:only-of-type {\n",
              "        vertical-align: middle;\n",
              "    }\n",
              "\n",
              "    .dataframe tbody tr th {\n",
              "        vertical-align: top;\n",
              "    }\n",
              "\n",
              "    .dataframe thead th {\n",
              "        text-align: right;\n",
              "    }\n",
              "</style>\n",
              "<table border=\"1\" class=\"dataframe\">\n",
              "  <thead>\n",
              "    <tr style=\"text-align: right;\">\n",
              "      <th></th>\n",
              "      <th>name</th>\n",
              "      <th>Population</th>\n",
              "      <th>Land Area (Sq. Km)</th>\n",
              "      <th>Population Density (No. per Sq. Km)</th>\n",
              "      <th>Male</th>\n",
              "      <th>Female</th>\n",
              "      <th>Intersex</th>\n",
              "      <th>Total_gender</th>\n",
              "      <th>No.of Households</th>\n",
              "      <th>Avg Household size</th>\n",
              "    </tr>\n",
              "  </thead>\n",
              "  <tbody>\n",
              "    <tr>\n",
              "      <th>1</th>\n",
              "      <td>Mombasa</td>\n",
              "      <td>1208333</td>\n",
              "      <td>219.9</td>\n",
              "      <td>5495</td>\n",
              "      <td>610257</td>\n",
              "      <td>598046</td>\n",
              "      <td>30</td>\n",
              "      <td>1208333</td>\n",
              "      <td>378422</td>\n",
              "      <td>31</td>\n",
              "    </tr>\n",
              "    <tr>\n",
              "      <th>2</th>\n",
              "      <td>Kwale</td>\n",
              "      <td>866820</td>\n",
              "      <td>8267.1</td>\n",
              "      <td>105</td>\n",
              "      <td>425121</td>\n",
              "      <td>441681</td>\n",
              "      <td>18</td>\n",
              "      <td>866820</td>\n",
              "      <td>173176</td>\n",
              "      <td>50</td>\n",
              "    </tr>\n",
              "    <tr>\n",
              "      <th>3</th>\n",
              "      <td>Kilifi</td>\n",
              "      <td>1453787</td>\n",
              "      <td>12539.7</td>\n",
              "      <td>116</td>\n",
              "      <td>704089</td>\n",
              "      <td>749673</td>\n",
              "      <td>25</td>\n",
              "      <td>1453787</td>\n",
              "      <td>298472</td>\n",
              "      <td>48</td>\n",
              "    </tr>\n",
              "    <tr>\n",
              "      <th>4</th>\n",
              "      <td>Tana River</td>\n",
              "      <td>315943</td>\n",
              "      <td>37950.5</td>\n",
              "      <td>8</td>\n",
              "      <td>158550</td>\n",
              "      <td>157391</td>\n",
              "      <td>2</td>\n",
              "      <td>315943</td>\n",
              "      <td>68242</td>\n",
              "      <td>46</td>\n",
              "    </tr>\n",
              "    <tr>\n",
              "      <th>5</th>\n",
              "      <td>Lamu</td>\n",
              "      <td>143920</td>\n",
              "      <td>6253.3</td>\n",
              "      <td>23</td>\n",
              "      <td>76103</td>\n",
              "      <td>67813</td>\n",
              "      <td>4</td>\n",
              "      <td>143920</td>\n",
              "      <td>37963</td>\n",
              "      <td>37</td>\n",
              "    </tr>\n",
              "  </tbody>\n",
              "</table>\n",
              "</div>"
            ],
            "text/plain": [
              "         name  Population  ...  No.of Households  Avg Household size\n",
              "1     Mombasa     1208333  ...            378422                  31\n",
              "2       Kwale      866820  ...            173176                  50\n",
              "3      Kilifi     1453787  ...            298472                  48\n",
              "4  Tana River      315943  ...             68242                  46\n",
              "5        Lamu      143920  ...             37963                  37\n",
              "\n",
              "[5 rows x 10 columns]"
            ]
          },
          "metadata": {
            "tags": []
          },
          "execution_count": 75
        }
      ]
    },
    {
      "cell_type": "markdown",
      "metadata": {
        "id": "z5d1jiQJW5g-",
        "colab_type": "text"
      },
      "source": [
        "one row (Kenya) was dropped since it is not part of county name and this makes analysis easy."
      ]
    },
    {
      "cell_type": "code",
      "metadata": {
        "id": "w5XR6C5cyHc5",
        "colab_type": "code",
        "colab": {}
      },
      "source": [
        "#d:syntax errors in values\n",
        "# Data Cleaning Action:removing leading and trailing spaces\n",
        "# Explanation:We can use the str.strip function so that to make manupulation easier.\n",
        "#use strip function\n",
        "df2_syntax = df2['Female'] = df2[('Female')].str.strip()\n",
        "df2_syntax.head()\n",
        "\n"
      ],
      "execution_count": null,
      "outputs": []
    },
    {
      "cell_type": "markdown",
      "metadata": {
        "id": "4Mco0LcXOF3i",
        "colab_type": "text"
      },
      "source": [
        "There was no syntax"
      ]
    },
    {
      "cell_type": "markdown",
      "metadata": {
        "id": "UUkfgzX4uooh",
        "colab_type": "text"
      },
      "source": [
        "## 2.2Accuracy"
      ]
    },
    {
      "cell_type": "code",
      "metadata": {
        "id": "YD-OgCCiyVv6",
        "colab_type": "code",
        "colab": {
          "base_uri": "https://localhost:8080/",
          "height": 293
        },
        "outputId": "8f42818a-be9d-4739-a6a7-94f459469031"
      },
      "source": [
        "#a: outliers\n",
        "#Data Cleaning Action:clearing outliers\n",
        "# Explanation:this help in accuracy when it comes to data analysis.\n",
        "#\n",
        "#importing required libruary\n",
        "import numpy as np \n",
        "import pandas as pd \n",
        "import matplotlib.pyplot as plt \n",
        "% matplotlib inline \n",
        "#\n",
        "#indentifying the outliers\n",
        "df2.boxplot(column =['Population', 'Female'], grid = False)"
      ],
      "execution_count": 108,
      "outputs": [
        {
          "output_type": "execute_result",
          "data": {
            "text/plain": [
              "<matplotlib.axes._subplots.AxesSubplot at 0x7f3a102cd048>"
            ]
          },
          "metadata": {
            "tags": []
          },
          "execution_count": 108
        },
        {
          "output_type": "display_data",
          "data": {
            "image/png": "[encoded data removed]",
            "text/plain": [
              "<Figure size 432x288 with 1 Axes>"
            ]
          },
          "metadata": {
            "tags": [],
            "needs_background": "light"
          }
        }
      ]
    },
    {
      "cell_type": "markdown",
      "metadata": {
        "id": "6vbBrvFOfF8N",
        "colab_type": "text"
      },
      "source": [
        "There were outliers due to the total population being included in the first row, but we kept them since dropping them will jeopardize the outcome which would have lead to biasied analysis."
      ]
    },
    {
      "cell_type": "markdown",
      "metadata": {
        "id": "qGyiwid0u2_f",
        "colab_type": "text"
      },
      "source": [
        "## 2.3 completeness"
      ]
    },
    {
      "cell_type": "code",
      "metadata": {
        "id": "MnpHgwA-4QRq",
        "colab_type": "code",
        "colab": {
          "base_uri": "https://localhost:8080/",
          "height": 204
        },
        "outputId": "9cd9d83d-2d3f-438d-d5c9-db2dc1a09ca2"
      },
      "source": [
        "# a:checking the missing dataset values\n",
        "# Data Cleaning Action:dropping all the missing values\n",
        "# Explanation:this ensures the data is complete and easy to manupulate\n",
        "#\n",
        "#checking missing data values\n",
        "df2.isnull(). any()"
      ],
      "execution_count": 82,
      "outputs": [
        {
          "output_type": "execute_result",
          "data": {
            "text/plain": [
              "name                                   False\n",
              "Population                             False\n",
              "Land Area (Sq. Km)                     False\n",
              "Population Density (No. per Sq. Km)    False\n",
              "Male                                   False\n",
              "Female                                 False\n",
              "Intersex                               False\n",
              "Total_gender                           False\n",
              "No.of Households                       False\n",
              "Avg Household size                     False\n",
              "dtype: bool"
            ]
          },
          "metadata": {
            "tags": []
          },
          "execution_count": 82
        }
      ]
    },
    {
      "cell_type": "markdown",
      "metadata": {
        "id": "x3bWq_ZrfkBU",
        "colab_type": "text"
      },
      "source": [
        "there  were *no* missing values"
      ]
    },
    {
      "cell_type": "code",
      "metadata": {
        "id": "_50Ye80V4apa",
        "colab_type": "code",
        "colab": {
          "base_uri": "https://localhost:8080/",
          "height": 204
        },
        "outputId": "2a353b99-a4ec-44b5-c10c-4b748ca5c125"
      },
      "source": [
        "# verifing if there's nolonger missing values\n",
        "df2.isnull(). sum()"
      ],
      "execution_count": 83,
      "outputs": [
        {
          "output_type": "execute_result",
          "data": {
            "text/plain": [
              "name                                   0\n",
              "Population                             0\n",
              "Land Area (Sq. Km)                     0\n",
              "Population Density (No. per Sq. Km)    0\n",
              "Male                                   0\n",
              "Female                                 0\n",
              "Intersex                               0\n",
              "Total_gender                           0\n",
              "No.of Households                       0\n",
              "Avg Household size                     0\n",
              "dtype: int64"
            ]
          },
          "metadata": {
            "tags": []
          },
          "execution_count": 83
        }
      ]
    },
    {
      "cell_type": "markdown",
      "metadata": {
        "id": "QelZWFEKft43",
        "colab_type": "text"
      },
      "source": [
        "this confirms there were null values in this Dataset"
      ]
    },
    {
      "cell_type": "markdown",
      "metadata": {
        "id": "3povHvM0u7Pb",
        "colab_type": "text"
      },
      "source": [
        "## 2.4 Consistency"
      ]
    },
    {
      "cell_type": "code",
      "metadata": {
        "id": "K60vTGh64mTq",
        "colab_type": "code",
        "colab": {
          "base_uri": "https://localhost:8080/",
          "height": 833
        },
        "outputId": "e8871818-56df-4d4b-9b79-52b5454cf39e"
      },
      "source": [
        "#a: checking duplicate values\n",
        "#Data Cleaning Action:dropping the duplicated values in case they are there.\n",
        "# Explanation:this ensures the data is complete and gives credible result deuring analysis.\n",
        "#\n",
        "df2.duplicated()"
      ],
      "execution_count": 109,
      "outputs": [
        {
          "output_type": "execute_result",
          "data": {
            "text/plain": [
              "1     False\n",
              "2     False\n",
              "3     False\n",
              "4     False\n",
              "5     False\n",
              "6     False\n",
              "7     False\n",
              "8     False\n",
              "9     False\n",
              "10    False\n",
              "11    False\n",
              "12    False\n",
              "13    False\n",
              "14    False\n",
              "15    False\n",
              "16    False\n",
              "17    False\n",
              "18    False\n",
              "19    False\n",
              "20    False\n",
              "21    False\n",
              "22    False\n",
              "23    False\n",
              "24    False\n",
              "25    False\n",
              "26    False\n",
              "27    False\n",
              "28    False\n",
              "29    False\n",
              "30    False\n",
              "31    False\n",
              "32    False\n",
              "33    False\n",
              "34    False\n",
              "35    False\n",
              "36    False\n",
              "37    False\n",
              "38    False\n",
              "39    False\n",
              "40    False\n",
              "41    False\n",
              "42    False\n",
              "43    False\n",
              "44    False\n",
              "45    False\n",
              "46    False\n",
              "47    False\n",
              "dtype: bool"
            ]
          },
          "metadata": {
            "tags": []
          },
          "execution_count": 109
        }
      ]
    },
    {
      "cell_type": "markdown",
      "metadata": {
        "id": "fREkMjEMgbt3",
        "colab_type": "text"
      },
      "source": [
        "No duplicate found."
      ]
    },
    {
      "cell_type": "markdown",
      "metadata": {
        "id": "KmeySgVGvHRG",
        "colab_type": "text"
      },
      "source": [
        "## 2.5 uniformity"
      ]
    },
    {
      "cell_type": "code",
      "metadata": {
        "id": "JFAmYgGO4rNz",
        "colab_type": "code",
        "colab": {
          "base_uri": "https://localhost:8080/",
          "height": 85
        },
        "outputId": "7e939d0c-85bc-4ff3-d30e-e511ce7d2311"
      },
      "source": [
        "#a: checking if colunms names need to be changed, name changed to uppercases, and converting strings to datetime\n",
        "# Data Cleaning Action:Renaming dataframe colunm and coverting string to datetime\n",
        "# Explanation:makes manupulation easy\n",
        "#\n",
        "#\n",
        "df1.columns\n"
      ],
      "execution_count": 85,
      "outputs": [
        {
          "output_type": "execute_result",
          "data": {
            "text/plain": [
              "Index(['name', 'Population', 'Land Area (Sq. Km)',\n",
              "       'Population Density (No. per Sq. Km)', 'Male', 'Female', 'Intersex',\n",
              "       'Total_gender', 'No.of Households', 'Avg Household size', 'number'],\n",
              "      dtype='object')"
            ]
          },
          "metadata": {
            "tags": []
          },
          "execution_count": 85
        }
      ]
    },
    {
      "cell_type": "code",
      "metadata": {
        "id": "d8cYu8hSnC7_",
        "colab_type": "code",
        "colab": {}
      },
      "source": [
        "#b. Renaming colunms\n",
        "df2_renamed=df2.rename(columns={\"name\":\"County\", \"Land Area (Sq. Km)\":\"Land_area_sq_km\", \"Population Density (No. per Sq. Km)\" : \"Pop_density_number_per_sq_km\", \"No.of Households\": \"No_of_households\", \"Avg Household size\": \"Avg_household_size\" }, inplace=True)\n"
      ],
      "execution_count": 86,
      "outputs": []
    },
    {
      "cell_type": "markdown",
      "metadata": {
        "id": "cf_6ByXin_Tq",
        "colab_type": "text"
      },
      "source": [
        "we renamed 5 colunms; name, Land Area (Sq. Km), Population Density (No. per Sq. Km), Total_gender', 'No.of Households, and Avg Household size. this is for easy manupulation."
      ]
    },
    {
      "cell_type": "code",
      "metadata": {
        "id": "wpkNI9TAg-or",
        "colab_type": "code",
        "colab": {
          "base_uri": "https://localhost:8080/",
          "height": 85
        },
        "outputId": "e0b1df7d-2cfc-49b4-f312-30cf41eb018a"
      },
      "source": [
        "#c. confirming the renaming of colunms\n",
        "df2.columns"
      ],
      "execution_count": 87,
      "outputs": [
        {
          "output_type": "execute_result",
          "data": {
            "text/plain": [
              "Index(['County', 'Population', 'Land_area_sq_km',\n",
              "       'Pop_density_number_per_sq_km', 'Male', 'Female', 'Intersex',\n",
              "       'Total_gender', 'No_of_households', 'Avg_household_size'],\n",
              "      dtype='object')"
            ]
          },
          "metadata": {
            "tags": []
          },
          "execution_count": 87
        }
      ]
    },
    {
      "cell_type": "code",
      "metadata": {
        "id": "-A7RhKefgzmE",
        "colab_type": "code",
        "colab": {
          "base_uri": "https://localhost:8080/",
          "height": 241
        },
        "outputId": "6fae0b2c-ed58-4331-8332-a5342c153bda"
      },
      "source": [
        "# preview of clean dataset\n",
        "df2_clean_Dataset = df2\n",
        "df2_clean_Dataset.head()"
      ],
      "execution_count": 88,
      "outputs": [
        {
          "output_type": "execute_result",
          "data": {
            "text/html": [
              "<div>\n",
              "<style scoped>\n",
              "    .dataframe tbody tr th:only-of-type {\n",
              "        vertical-align: middle;\n",
              "    }\n",
              "\n",
              "    .dataframe tbody tr th {\n",
              "        vertical-align: top;\n",
              "    }\n",
              "\n",
              "    .dataframe thead th {\n",
              "        text-align: right;\n",
              "    }\n",
              "</style>\n",
              "<table border=\"1\" class=\"dataframe\">\n",
              "  <thead>\n",
              "    <tr style=\"text-align: right;\">\n",
              "      <th></th>\n",
              "      <th>County</th>\n",
              "      <th>Population</th>\n",
              "      <th>Land_area_sq_km</th>\n",
              "      <th>Pop_density_number_per_sq_km</th>\n",
              "      <th>Male</th>\n",
              "      <th>Female</th>\n",
              "      <th>Intersex</th>\n",
              "      <th>Total_gender</th>\n",
              "      <th>No_of_households</th>\n",
              "      <th>Avg_household_size</th>\n",
              "    </tr>\n",
              "  </thead>\n",
              "  <tbody>\n",
              "    <tr>\n",
              "      <th>1</th>\n",
              "      <td>Mombasa</td>\n",
              "      <td>1208333</td>\n",
              "      <td>219.9</td>\n",
              "      <td>5495</td>\n",
              "      <td>610257</td>\n",
              "      <td>598046</td>\n",
              "      <td>30</td>\n",
              "      <td>1208333</td>\n",
              "      <td>378422</td>\n",
              "      <td>31</td>\n",
              "    </tr>\n",
              "    <tr>\n",
              "      <th>2</th>\n",
              "      <td>Kwale</td>\n",
              "      <td>866820</td>\n",
              "      <td>8267.1</td>\n",
              "      <td>105</td>\n",
              "      <td>425121</td>\n",
              "      <td>441681</td>\n",
              "      <td>18</td>\n",
              "      <td>866820</td>\n",
              "      <td>173176</td>\n",
              "      <td>50</td>\n",
              "    </tr>\n",
              "    <tr>\n",
              "      <th>3</th>\n",
              "      <td>Kilifi</td>\n",
              "      <td>1453787</td>\n",
              "      <td>12539.7</td>\n",
              "      <td>116</td>\n",
              "      <td>704089</td>\n",
              "      <td>749673</td>\n",
              "      <td>25</td>\n",
              "      <td>1453787</td>\n",
              "      <td>298472</td>\n",
              "      <td>48</td>\n",
              "    </tr>\n",
              "    <tr>\n",
              "      <th>4</th>\n",
              "      <td>Tana River</td>\n",
              "      <td>315943</td>\n",
              "      <td>37950.5</td>\n",
              "      <td>8</td>\n",
              "      <td>158550</td>\n",
              "      <td>157391</td>\n",
              "      <td>2</td>\n",
              "      <td>315943</td>\n",
              "      <td>68242</td>\n",
              "      <td>46</td>\n",
              "    </tr>\n",
              "    <tr>\n",
              "      <th>5</th>\n",
              "      <td>Lamu</td>\n",
              "      <td>143920</td>\n",
              "      <td>6253.3</td>\n",
              "      <td>23</td>\n",
              "      <td>76103</td>\n",
              "      <td>67813</td>\n",
              "      <td>4</td>\n",
              "      <td>143920</td>\n",
              "      <td>37963</td>\n",
              "      <td>37</td>\n",
              "    </tr>\n",
              "  </tbody>\n",
              "</table>\n",
              "</div>"
            ],
            "text/plain": [
              "       County  Population  ...  No_of_households  Avg_household_size\n",
              "1     Mombasa     1208333  ...            378422                  31\n",
              "2       Kwale      866820  ...            173176                  50\n",
              "3      Kilifi     1453787  ...            298472                  48\n",
              "4  Tana River      315943  ...             68242                  46\n",
              "5        Lamu      143920  ...             37963                  37\n",
              "\n",
              "[5 rows x 10 columns]"
            ]
          },
          "metadata": {
            "tags": []
          },
          "execution_count": 88
        }
      ]
    },
    {
      "cell_type": "code",
      "metadata": {
        "id": "EJWLgfc9ilni",
        "colab_type": "code",
        "colab": {
          "base_uri": "https://localhost:8080/",
          "height": 34
        },
        "outputId": "c7774df1-1f97-4a22-f8ad-de527ba9e873"
      },
      "source": [
        "#cheking the attribute of the clean dataset\n",
        "df2.shape"
      ],
      "execution_count": 89,
      "outputs": [
        {
          "output_type": "execute_result",
          "data": {
            "text/plain": [
              "(47, 10)"
            ]
          },
          "metadata": {
            "tags": []
          },
          "execution_count": 89
        }
      ]
    },
    {
      "cell_type": "markdown",
      "metadata": {
        "id": "9ji85aKHi15Z",
        "colab_type": "text"
      },
      "source": [
        "This is our final dataset after data cleaning. it has 47 rows and 10 colunms."
      ]
    },
    {
      "cell_type": "code",
      "metadata": {
        "id": "OON69de9p63V",
        "colab_type": "code",
        "colab": {
          "base_uri": "https://localhost:8080/",
          "height": 317
        },
        "outputId": "e19326fb-d287-481b-d4db-6ff4c29312d4"
      },
      "source": [
        "#summary statistics\n",
        "df2.describe()"
      ],
      "execution_count": 90,
      "outputs": [
        {
          "output_type": "execute_result",
          "data": {
            "text/html": [
              "<div>\n",
              "<style scoped>\n",
              "    .dataframe tbody tr th:only-of-type {\n",
              "        vertical-align: middle;\n",
              "    }\n",
              "\n",
              "    .dataframe tbody tr th {\n",
              "        vertical-align: top;\n",
              "    }\n",
              "\n",
              "    .dataframe thead th {\n",
              "        text-align: right;\n",
              "    }\n",
              "</style>\n",
              "<table border=\"1\" class=\"dataframe\">\n",
              "  <thead>\n",
              "    <tr style=\"text-align: right;\">\n",
              "      <th></th>\n",
              "      <th>Population</th>\n",
              "      <th>Land_area_sq_km</th>\n",
              "      <th>Pop_density_number_per_sq_km</th>\n",
              "      <th>Male</th>\n",
              "      <th>Female</th>\n",
              "      <th>Intersex</th>\n",
              "      <th>Total_gender</th>\n",
              "      <th>No_of_households</th>\n",
              "      <th>Avg_household_size</th>\n",
              "    </tr>\n",
              "  </thead>\n",
              "  <tbody>\n",
              "    <tr>\n",
              "      <th>count</th>\n",
              "      <td>4.700000e+01</td>\n",
              "      <td>47.000000</td>\n",
              "      <td>47.000000</td>\n",
              "      <td>4.700000e+01</td>\n",
              "      <td>4.700000e+01</td>\n",
              "      <td>47.000000</td>\n",
              "      <td>4.700000e+01</td>\n",
              "      <td>4.700000e+01</td>\n",
              "      <td>47.000000</td>\n",
              "    </tr>\n",
              "    <tr>\n",
              "      <th>mean</th>\n",
              "      <td>1.012006e+06</td>\n",
              "      <td>12359.074468</td>\n",
              "      <td>509.148936</td>\n",
              "      <td>5.010225e+05</td>\n",
              "      <td>5.109514e+05</td>\n",
              "      <td>32.425532</td>\n",
              "      <td>1.012006e+06</td>\n",
              "      <td>2.583811e+05</td>\n",
              "      <td>42.319149</td>\n",
              "    </tr>\n",
              "    <tr>\n",
              "      <th>std</th>\n",
              "      <td>6.932427e+05</td>\n",
              "      <td>17366.002689</td>\n",
              "      <td>1175.429468</td>\n",
              "      <td>3.423677e+05</td>\n",
              "      <td>3.513158e+05</td>\n",
              "      <td>38.490961</td>\n",
              "      <td>6.932427e+05</td>\n",
              "      <td>2.344552e+05</td>\n",
              "      <td>8.841863</td>\n",
              "    </tr>\n",
              "    <tr>\n",
              "      <th>min</th>\n",
              "      <td>1.439200e+05</td>\n",
              "      <td>219.900000</td>\n",
              "      <td>6.000000</td>\n",
              "      <td>7.610300e+04</td>\n",
              "      <td>6.781300e+04</td>\n",
              "      <td>2.000000</td>\n",
              "      <td>1.439200e+05</td>\n",
              "      <td>3.796300e+04</td>\n",
              "      <td>29.000000</td>\n",
              "    </tr>\n",
              "    <tr>\n",
              "      <th>25%</th>\n",
              "      <td>6.095050e+05</td>\n",
              "      <td>2530.350000</td>\n",
              "      <td>52.500000</td>\n",
              "      <td>3.031095e+05</td>\n",
              "      <td>3.112910e+05</td>\n",
              "      <td>18.000000</td>\n",
              "      <td>6.095050e+05</td>\n",
              "      <td>1.419560e+05</td>\n",
              "      <td>35.000000</td>\n",
              "    </tr>\n",
              "    <tr>\n",
              "      <th>50%</th>\n",
              "      <td>8.936810e+05</td>\n",
              "      <td>3325.000000</td>\n",
              "      <td>221.000000</td>\n",
              "      <td>4.507410e+05</td>\n",
              "      <td>4.488680e+05</td>\n",
              "      <td>25.000000</td>\n",
              "      <td>8.936810e+05</td>\n",
              "      <td>2.041880e+05</td>\n",
              "      <td>43.000000</td>\n",
              "    </tr>\n",
              "    <tr>\n",
              "      <th>75%</th>\n",
              "      <td>1.156724e+06</td>\n",
              "      <td>14845.850000</td>\n",
              "      <td>416.000000</td>\n",
              "      <td>5.699920e+05</td>\n",
              "      <td>5.897590e+05</td>\n",
              "      <td>34.000000</td>\n",
              "      <td>1.156724e+06</td>\n",
              "      <td>3.028440e+05</td>\n",
              "      <td>46.500000</td>\n",
              "    </tr>\n",
              "    <tr>\n",
              "      <th>max</th>\n",
              "      <td>4.397073e+06</td>\n",
              "      <td>70944.100000</td>\n",
              "      <td>6247.000000</td>\n",
              "      <td>2.192452e+06</td>\n",
              "      <td>2.204376e+06</td>\n",
              "      <td>245.000000</td>\n",
              "      <td>4.397073e+06</td>\n",
              "      <td>1.506888e+06</td>\n",
              "      <td>69.000000</td>\n",
              "    </tr>\n",
              "  </tbody>\n",
              "</table>\n",
              "</div>"
            ],
            "text/plain": [
              "         Population  Land_area_sq_km  ...  No_of_households  Avg_household_size\n",
              "count  4.700000e+01        47.000000  ...      4.700000e+01           47.000000\n",
              "mean   1.012006e+06     12359.074468  ...      2.583811e+05           42.319149\n",
              "std    6.932427e+05     17366.002689  ...      2.344552e+05            8.841863\n",
              "min    1.439200e+05       219.900000  ...      3.796300e+04           29.000000\n",
              "25%    6.095050e+05      2530.350000  ...      1.419560e+05           35.000000\n",
              "50%    8.936810e+05      3325.000000  ...      2.041880e+05           43.000000\n",
              "75%    1.156724e+06     14845.850000  ...      3.028440e+05           46.500000\n",
              "max    4.397073e+06     70944.100000  ...      1.506888e+06           69.000000\n",
              "\n",
              "[8 rows x 9 columns]"
            ]
          },
          "metadata": {
            "tags": []
          },
          "execution_count": 90
        }
      ]
    },
    {
      "cell_type": "markdown",
      "metadata": {
        "id": "8bS6mkIT8o1o",
        "colab_type": "text"
      },
      "source": [
        "\n",
        "*   The were 47 rows representing respective county\n",
        "*   under population, the mean was 1012006.29, minmum 143920, maximum 4397073, and std 693242.70\n",
        "*   This can be repricated on other colunms\n",
        "\n",
        "\n",
        "\n",
        "\n",
        "\n"
      ]
    },
    {
      "cell_type": "markdown",
      "metadata": {
        "id": "RHGk9HeGvVWp",
        "colab_type": "text"
      },
      "source": [
        "## 3.0 Data Analysis using python"
      ]
    },
    {
      "cell_type": "code",
      "metadata": {
        "id": "a-1IIatdPWiL",
        "colab_type": "code",
        "colab": {
          "base_uri": "https://localhost:8080/",
          "height": 34
        },
        "outputId": "87014c70-80e5-45e6-e141-a66b266150c7"
      },
      "source": [
        "#3.1 Identify the total population in 2019 census\n",
        "df2_total_population=df2[\"Population\"]. sum()\n",
        "df2_total_population"
      ],
      "execution_count": 91,
      "outputs": [
        {
          "output_type": "execute_result",
          "data": {
            "text/plain": [
              "47564296"
            ]
          },
          "metadata": {
            "tags": []
          },
          "execution_count": 91
        }
      ]
    },
    {
      "cell_type": "markdown",
      "metadata": {
        "id": "x_JWxCkjHJ_e",
        "colab_type": "text"
      },
      "source": [
        "the kenyan total population as per 2019 census was 47564296"
      ]
    },
    {
      "cell_type": "code",
      "metadata": {
        "id": "P8vKKrn9Raam",
        "colab_type": "code",
        "colab": {
          "base_uri": "https://localhost:8080/",
          "height": 221
        },
        "outputId": "67b23b94-4ebd-4d14-f526-f4a1999ab382"
      },
      "source": [
        "#3.2 Identify the most populated Counties as per the 2019 Census\n",
        "#\n",
        "df2_most_populated = df2.groupby([\"County\"])[\"Population\"]. sum()\n",
        "df2_most_populated.sort_values(ascending=False).head(10)"
      ],
      "execution_count": 92,
      "outputs": [
        {
          "output_type": "execute_result",
          "data": {
            "text/plain": [
              "County\n",
              "Nairobi     4397073\n",
              "Kiambu      2417735\n",
              "Nakuru      2162202\n",
              "Kakamega    1867579\n",
              "Bungoma     1670570\n",
              "Meru        1545714\n",
              "Kilifi      1453787\n",
              "Machakos    1421932\n",
              "Kisii       1266860\n",
              "Mombasa     1208333\n",
              "Name: Population, dtype: int64"
            ]
          },
          "metadata": {
            "tags": []
          },
          "execution_count": 92
        }
      ]
    },
    {
      "cell_type": "markdown",
      "metadata": {
        "id": "uXXjjYuJVFh8",
        "colab_type": "text"
      },
      "source": [
        "Nairobi was the most populated county with 4397073"
      ]
    },
    {
      "cell_type": "code",
      "metadata": {
        "id": "EdYpgmnrPfn3",
        "colab_type": "code",
        "colab": {
          "base_uri": "https://localhost:8080/",
          "height": 102
        },
        "outputId": "3d044f46-eba2-4a36-a511-2b86084903e1"
      },
      "source": [
        "#3.3 Identify the most densely populated county per sq.km.\n",
        "df2_most_populated_sq_km = df2.groupby([\"County\"])[\"Pop_density_number_per_sq_km\"].sum()\n",
        "df2_most_populated_sq_km.sort_values(ascending=False). head(3)"
      ],
      "execution_count": 93,
      "outputs": [
        {
          "output_type": "execute_result",
          "data": {
            "text/plain": [
              "County\n",
              "Nairobi    6247\n",
              "Mombasa    5495\n",
              "Vihiga     1047\n",
              "Name: Pop_density_number_per_sq_km, dtype: int64"
            ]
          },
          "metadata": {
            "tags": []
          },
          "execution_count": 93
        }
      ]
    },
    {
      "cell_type": "markdown",
      "metadata": {
        "id": "SZslvdUzTfRL",
        "colab_type": "text"
      },
      "source": [
        "Nairobi was the most densely populated county per square kilometer followed by Mombasa and Vihiga."
      ]
    },
    {
      "cell_type": "code",
      "metadata": {
        "id": "Rti3PU_OT3uP",
        "colab_type": "code",
        "colab": {
          "base_uri": "https://localhost:8080/",
          "height": 221
        },
        "outputId": "507646ed-335b-4168-cea5-8af698930a8e"
      },
      "source": [
        "#3.4 Identify the county with the highest average households\n",
        "df2_highest_avg = df2.groupby([\"County\"])[\"Avg_household_size\"]. sum()\n",
        "df2_highest_avg.sort_values(ascending=False).head(10)"
      ],
      "execution_count": 94,
      "outputs": [
        {
          "output_type": "execute_result",
          "data": {
            "text/plain": [
              "County\n",
              "Mandera       69\n",
              "Wajir         61\n",
              "Garissa       59\n",
              "Marsabit      58\n",
              "Turkana       56\n",
              "West Pokot    53\n",
              "Kwale         50\n",
              "Narok         48\n",
              "Kilifi        48\n",
              "Baringo       47\n",
              "Name: Avg_household_size, dtype: int64"
            ]
          },
          "metadata": {
            "tags": []
          },
          "execution_count": 94
        }
      ]
    },
    {
      "cell_type": "markdown",
      "metadata": {
        "id": "cUL0S9-4U-Va",
        "colab_type": "text"
      },
      "source": [
        "Mandera had the highest average household size per hosehold in the entire country followed by Mandera and wajir."
      ]
    },
    {
      "cell_type": "code",
      "metadata": {
        "id": "_WU5SC0aVvRy",
        "colab_type": "code",
        "colab": {
          "base_uri": "https://localhost:8080/",
          "height": 221
        },
        "outputId": "2b59166d-f443-4c74-a613-7e03a07c3164"
      },
      "source": [
        "#3.5 Identify the county with the highest land area per sqaure kilometer\n",
        "df2_highest_avg = df2.groupby([\"County\"])[\"Land_area_sq_km\"]. sum()\n",
        "df2_highest_avg.sort_values(ascending=False).head(10)"
      ],
      "execution_count": 95,
      "outputs": [
        {
          "output_type": "execute_result",
          "data": {
            "text/plain": [
              "County\n",
              "Marsabit      70944.1\n",
              "Turkana       68232.9\n",
              "Wajir         56773.1\n",
              "Garissa       44736.0\n",
              "Tana River    37950.5\n",
              "Kitui         30429.5\n",
              "Mandera       25939.8\n",
              "Isiolo        25350.6\n",
              "Kajiado       21871.1\n",
              "Samburu       21065.1\n",
              "Name: Land_area_sq_km, dtype: float64"
            ]
          },
          "metadata": {
            "tags": []
          },
          "execution_count": 95
        }
      ]
    },
    {
      "cell_type": "markdown",
      "metadata": {
        "id": "eovsTUsaWWxD",
        "colab_type": "text"
      },
      "source": [
        "Marsabit county has the highest land area per square kilometer followed by Turkana and Wajir."
      ]
    },
    {
      "cell_type": "code",
      "metadata": {
        "id": "N4pIMDErXBVl",
        "colab_type": "code",
        "colab": {
          "base_uri": "https://localhost:8080/",
          "height": 102
        },
        "outputId": "296164c6-3ca7-49d0-9cd9-9c99f3fcbc72"
      },
      "source": [
        "#3.6 Indentify the 3 least sparsely  populated Counties?\n",
        "#\n",
        "df2_least_populated = df2.groupby([\"County\"])[\"Population\"]. sum()\n",
        "df2_most_populated.sort_values(ascending=True). head(3)"
      ],
      "execution_count": 96,
      "outputs": [
        {
          "output_type": "execute_result",
          "data": {
            "text/plain": [
              "County\n",
              "Lamu       143920\n",
              "Isiolo     268002\n",
              "Samburu    310327\n",
              "Name: Population, dtype: int64"
            ]
          },
          "metadata": {
            "tags": []
          },
          "execution_count": 96
        }
      ]
    },
    {
      "cell_type": "markdown",
      "metadata": {
        "id": "LZvmiyr5gi5T",
        "colab_type": "text"
      },
      "source": [
        "Lamu county was the least populated followed by Isiolo and Samburu"
      ]
    },
    {
      "cell_type": "code",
      "metadata": {
        "id": "7cWRsHgDY3UZ",
        "colab_type": "code",
        "colab": {
          "base_uri": "https://localhost:8080/",
          "height": 102
        },
        "outputId": "0c30e6b6-2304-4767-f861-64768f70bafe"
      },
      "source": [
        "#3.7 The least densely  populated county per sq.km\n",
        "df2_least_populated = df2.groupby([\"County\"])[\"Pop_density_number_per_sq_km\"]. sum()\n",
        "df2_most_populated.sort_values(ascending=True).head(3)"
      ],
      "execution_count": 97,
      "outputs": [
        {
          "output_type": "execute_result",
          "data": {
            "text/plain": [
              "County\n",
              "Lamu       143920\n",
              "Isiolo     268002\n",
              "Samburu    310327\n",
              "Name: Population, dtype: int64"
            ]
          },
          "metadata": {
            "tags": []
          },
          "execution_count": 97
        }
      ]
    },
    {
      "cell_type": "markdown",
      "metadata": {
        "id": "qylKAuNfusYl",
        "colab_type": "text"
      },
      "source": [
        "Lamu was the least densely populated per sq.km followed by Isiolo and Samburu."
      ]
    },
    {
      "cell_type": "code",
      "metadata": {
        "id": "j3pmx9oZVHX8",
        "colab_type": "code",
        "colab": {
          "base_uri": "https://localhost:8080/",
          "height": 850
        },
        "outputId": "6b584bdd-e9c1-4201-a805-58679c9dfb0f"
      },
      "source": [
        "#3.8 Intersex gender distributed among counties\n",
        "df2_intersex_gander = df2.groupby([\"County\"])[\"Intersex\"]. sum()\n",
        "df2_intersex_gander.sort_values(ascending=False)"
      ],
      "execution_count": 98,
      "outputs": [
        {
          "output_type": "execute_result",
          "data": {
            "text/plain": [
              "County\n",
              "Nairobi            245\n",
              "Kiambu             135\n",
              "Nakuru              95\n",
              "Wajir               49\n",
              "Meru                41\n",
              "Kakamega            40\n",
              "Kisii               38\n",
              "Kajiado             38\n",
              "Mandera             37\n",
              "Bungoma             35\n",
              "Migori              35\n",
              "Machakos            34\n",
              "Garissa             34\n",
              "Kitui               33\n",
              "Kirinyaga           31\n",
              "Murang'a            31\n",
              "Nyeri               31\n",
              "Mombasa             30\n",
              "Busia               28\n",
              "Uasin Gishu         28\n",
              "Trans Nzoia         28\n",
              "Kericho             28\n",
              "Narok               26\n",
              "Kilifi              25\n",
              "Embu                24\n",
              "Kisumu              23\n",
              "Homa Bay            23\n",
              "Bomet               23\n",
              "Nandi               22\n",
              "Turkana             21\n",
              "Makueni             20\n",
              "Nyandarua           20\n",
              "Marsabit            18\n",
              "Siaya               18\n",
              "Laikipia            18\n",
              "Kwale               18\n",
              "West Pokot          15\n",
              "Nyamira             13\n",
              "Baringo             13\n",
              "Elgeyo-Marakwet     12\n",
              "Vihiga              12\n",
              "Isiolo               9\n",
              "Samburu              7\n",
              "Taita-Taveta         7\n",
              "Tharaka-Nithi        7\n",
              "Lamu                 4\n",
              "Tana River           2\n",
              "Name: Intersex, dtype: int64"
            ]
          },
          "metadata": {
            "tags": []
          },
          "execution_count": 98
        }
      ]
    },
    {
      "cell_type": "markdown",
      "metadata": {
        "id": "2stz6pDgqP1e",
        "colab_type": "text"
      },
      "source": [
        "there were significant number of counties with intersex gender."
      ]
    },
    {
      "cell_type": "markdown",
      "metadata": {
        "id": "9D27QWCESflq",
        "colab_type": "text"
      },
      "source": [
        "## Correlation matrix  of the values"
      ]
    },
    {
      "cell_type": "code",
      "metadata": {
        "id": "LdzSaKTgfgDn",
        "colab_type": "code",
        "colab": {}
      },
      "source": [
        "#converting str to integers"
      ],
      "execution_count": null,
      "outputs": []
    },
    {
      "cell_type": "code",
      "metadata": {
        "id": "7yNR2cYMIGMd",
        "colab_type": "code",
        "colab": {
          "base_uri": "https://localhost:8080/",
          "height": 34
        },
        "outputId": "42e4bc0d-ad05-4b22-aaae-3cfea59362e0"
      },
      "source": [
        "# 3.9a. indentifying the correletion matrix of the values\n",
        "df2.corr()\n",
        "df2['Total_gender'].corr(df2['No_of_households'])"
      ],
      "execution_count": 127,
      "outputs": [
        {
          "output_type": "execute_result",
          "data": {
            "text/plain": [
              "0.9727290959521431"
            ]
          },
          "metadata": {
            "tags": []
          },
          "execution_count": 127
        }
      ]
    },
    {
      "cell_type": "markdown",
      "metadata": {
        "id": "X4SHqGr-PcJM",
        "colab_type": "text"
      },
      "source": [
        "there was a high correlation of 0.97 between population and number of households. this explains why Nairobi had the highest population as well as number of households as well.\n",
        "\n"
      ]
    },
    {
      "cell_type": "code",
      "metadata": {
        "id": "HYm-jCgaXP6R",
        "colab_type": "code",
        "colab": {
          "base_uri": "https://localhost:8080/",
          "height": 34
        },
        "outputId": "86c129bc-6a16-442c-ca4f-1c499f92e2f7"
      },
      "source": [
        "#df3.9b correlation matrix \n",
        "df2.corr()\n",
        "df2['Total_gender'].corr(df2['Pop_density_number_per_sq_km'])"
      ],
      "execution_count": 126,
      "outputs": [
        {
          "output_type": "execute_result",
          "data": {
            "text/plain": [
              "0.6378102752424741"
            ]
          },
          "metadata": {
            "tags": []
          },
          "execution_count": 126
        }
      ]
    },
    {
      "cell_type": "markdown",
      "metadata": {
        "id": "QdtHbqeQX3o6",
        "colab_type": "text"
      },
      "source": [
        "the correlation between population and population density number per square kilometer was 0.63. this means a high relationship between the 2 as well."
      ]
    },
    {
      "cell_type": "code",
      "metadata": {
        "id": "XLTOO-qeYpuX",
        "colab_type": "code",
        "colab": {
          "base_uri": "https://localhost:8080/",
          "height": 348
        },
        "outputId": "6c7cd874-4d84-4d7d-e3fa-da5e5bb75fca"
      },
      "source": [
        "#more insight can be drawn from below\n",
        "df2.corr()"
      ],
      "execution_count": 101,
      "outputs": [
        {
          "output_type": "execute_result",
          "data": {
            "text/html": [
              "<div>\n",
              "<style scoped>\n",
              "    .dataframe tbody tr th:only-of-type {\n",
              "        vertical-align: middle;\n",
              "    }\n",
              "\n",
              "    .dataframe tbody tr th {\n",
              "        vertical-align: top;\n",
              "    }\n",
              "\n",
              "    .dataframe thead th {\n",
              "        text-align: right;\n",
              "    }\n",
              "</style>\n",
              "<table border=\"1\" class=\"dataframe\">\n",
              "  <thead>\n",
              "    <tr style=\"text-align: right;\">\n",
              "      <th></th>\n",
              "      <th>Population</th>\n",
              "      <th>Land_area_sq_km</th>\n",
              "      <th>Pop_density_number_per_sq_km</th>\n",
              "      <th>Male</th>\n",
              "      <th>Female</th>\n",
              "      <th>Intersex</th>\n",
              "      <th>Total_gender</th>\n",
              "      <th>No_of_households</th>\n",
              "      <th>Avg_household_size</th>\n",
              "    </tr>\n",
              "  </thead>\n",
              "  <tbody>\n",
              "    <tr>\n",
              "      <th>Population</th>\n",
              "      <td>1.000000</td>\n",
              "      <td>-0.229951</td>\n",
              "      <td>0.637810</td>\n",
              "      <td>0.999296</td>\n",
              "      <td>0.999331</td>\n",
              "      <td>0.917011</td>\n",
              "      <td>1.000000</td>\n",
              "      <td>0.972729</td>\n",
              "      <td>-0.286602</td>\n",
              "    </tr>\n",
              "    <tr>\n",
              "      <th>Land_area_sq_km</th>\n",
              "      <td>-0.229951</td>\n",
              "      <td>1.000000</td>\n",
              "      <td>-0.264309</td>\n",
              "      <td>-0.208841</td>\n",
              "      <td>-0.250221</td>\n",
              "      <td>-0.123409</td>\n",
              "      <td>-0.229951</td>\n",
              "      <td>-0.281381</td>\n",
              "      <td>0.645037</td>\n",
              "    </tr>\n",
              "    <tr>\n",
              "      <th>Pop_density_number_per_sq_km</th>\n",
              "      <td>0.637810</td>\n",
              "      <td>-0.264309</td>\n",
              "      <td>1.000000</td>\n",
              "      <td>0.642900</td>\n",
              "      <td>0.631978</td>\n",
              "      <td>0.653953</td>\n",
              "      <td>0.637810</td>\n",
              "      <td>0.706400</td>\n",
              "      <td>-0.366180</td>\n",
              "    </tr>\n",
              "    <tr>\n",
              "      <th>Male</th>\n",
              "      <td>0.999296</td>\n",
              "      <td>-0.208841</td>\n",
              "      <td>0.642900</td>\n",
              "      <td>1.000000</td>\n",
              "      <td>0.997255</td>\n",
              "      <td>0.923833</td>\n",
              "      <td>0.999296</td>\n",
              "      <td>0.973732</td>\n",
              "      <td>-0.277179</td>\n",
              "    </tr>\n",
              "    <tr>\n",
              "      <th>Female</th>\n",
              "      <td>0.999331</td>\n",
              "      <td>-0.250221</td>\n",
              "      <td>0.631978</td>\n",
              "      <td>0.997255</td>\n",
              "      <td>1.000000</td>\n",
              "      <td>0.909103</td>\n",
              "      <td>0.999331</td>\n",
              "      <td>0.970427</td>\n",
              "      <td>-0.295395</td>\n",
              "    </tr>\n",
              "    <tr>\n",
              "      <th>Intersex</th>\n",
              "      <td>0.917011</td>\n",
              "      <td>-0.123409</td>\n",
              "      <td>0.653953</td>\n",
              "      <td>0.923833</td>\n",
              "      <td>0.909103</td>\n",
              "      <td>1.000000</td>\n",
              "      <td>0.917011</td>\n",
              "      <td>0.951147</td>\n",
              "      <td>-0.282869</td>\n",
              "    </tr>\n",
              "    <tr>\n",
              "      <th>Total_gender</th>\n",
              "      <td>1.000000</td>\n",
              "      <td>-0.229951</td>\n",
              "      <td>0.637810</td>\n",
              "      <td>0.999296</td>\n",
              "      <td>0.999331</td>\n",
              "      <td>0.917011</td>\n",
              "      <td>1.000000</td>\n",
              "      <td>0.972729</td>\n",
              "      <td>-0.286602</td>\n",
              "    </tr>\n",
              "    <tr>\n",
              "      <th>No_of_households</th>\n",
              "      <td>0.972729</td>\n",
              "      <td>-0.281381</td>\n",
              "      <td>0.706400</td>\n",
              "      <td>0.973732</td>\n",
              "      <td>0.970427</td>\n",
              "      <td>0.951147</td>\n",
              "      <td>0.972729</td>\n",
              "      <td>1.000000</td>\n",
              "      <td>-0.437639</td>\n",
              "    </tr>\n",
              "    <tr>\n",
              "      <th>Avg_household_size</th>\n",
              "      <td>-0.286602</td>\n",
              "      <td>0.645037</td>\n",
              "      <td>-0.366180</td>\n",
              "      <td>-0.277179</td>\n",
              "      <td>-0.295395</td>\n",
              "      <td>-0.282869</td>\n",
              "      <td>-0.286602</td>\n",
              "      <td>-0.437639</td>\n",
              "      <td>1.000000</td>\n",
              "    </tr>\n",
              "  </tbody>\n",
              "</table>\n",
              "</div>"
            ],
            "text/plain": [
              "                              Population  ...  Avg_household_size\n",
              "Population                      1.000000  ...           -0.286602\n",
              "Land_area_sq_km                -0.229951  ...            0.645037\n",
              "Pop_density_number_per_sq_km    0.637810  ...           -0.366180\n",
              "Male                            0.999296  ...           -0.277179\n",
              "Female                          0.999331  ...           -0.295395\n",
              "Intersex                        0.917011  ...           -0.282869\n",
              "Total_gender                    1.000000  ...           -0.286602\n",
              "No_of_households                0.972729  ...           -0.437639\n",
              "Avg_household_size             -0.286602  ...            1.000000\n",
              "\n",
              "[9 rows x 9 columns]"
            ]
          },
          "metadata": {
            "tags": []
          },
          "execution_count": 101
        }
      ]
    },
    {
      "cell_type": "code",
      "metadata": {
        "id": "z1blQERAnSTq",
        "colab_type": "code",
        "colab": {
          "base_uri": "https://localhost:8080/",
          "height": 85
        },
        "outputId": "5487eb71-6a6c-4d46-ed29-0c35ae6f34cb"
      },
      "source": [
        "df2.columns"
      ],
      "execution_count": 115,
      "outputs": [
        {
          "output_type": "execute_result",
          "data": {
            "text/plain": [
              "Index(['County', 'Population', 'Land_area_sq_km',\n",
              "       'Pop_density_number_per_sq_km', 'Male', 'Female', 'Intersex',\n",
              "       'Total_gender', 'No_of_households', 'Avg_household_size'],\n",
              "      dtype='object')"
            ]
          },
          "metadata": {
            "tags": []
          },
          "execution_count": 115
        }
      ]
    },
    {
      "cell_type": "markdown",
      "metadata": {
        "id": "jp4fmjHdp7IE",
        "colab_type": "text"
      },
      "source": [
        "## finding the relationship between variables"
      ]
    },
    {
      "cell_type": "code",
      "metadata": {
        "id": "Z0aOyaH2qHt_",
        "colab_type": "code",
        "colab": {
          "base_uri": "https://localhost:8080/",
          "height": 296
        },
        "outputId": "b12e50e1-448f-47d5-fa5a-c145181fce53"
      },
      "source": [
        "#import matplotlib.pyplot as plot\n",
        "df2.plot.scatter(x='Land_area_sq_km', y='Total_gender', title= \"Scatter plot between two variables X and Y\");"
      ],
      "execution_count": 121,
      "outputs": [
        {
          "output_type": "display_data",
          "data": {
            "image/png": "[encoded data removed]",
            "text/plain": [
              "<Figure size 432x288 with 1 Axes>"
            ]
          },
          "metadata": {
            "tags": [],
            "needs_background": "light"
          }
        }
      ]
    },
    {
      "cell_type": "markdown",
      "metadata": {
        "id": "j_V_LW1esISo",
        "colab_type": "text"
      },
      "source": [
        "This means large land area does not necessary translate to high population, thus farming might not be good idea in some counties with larges land mass due to harsh climatic conditions.However, with some condition it might work out.\n",
        "small land area means a happy table area. \n",
        "Nairobi county is outlier since is the capital city and industrialized.\n",
        "\n",
        "smaller land area has a larger population.\n",
        "The government should consider power generation  in Marsabit using solar which will add power to national grid, this is because of high land mass.\n",
        "Farming can be done in Marsabit as well using irrigration.\n"
      ]
    },
    {
      "cell_type": "code",
      "metadata": {
        "id": "mqw1QmRGtslI",
        "colab_type": "code",
        "colab": {
          "base_uri": "https://localhost:8080/",
          "height": 296
        },
        "outputId": "64e7ece7-0ed2-4144-d422-c50ab189fc0c"
      },
      "source": [
        "#checking the scatter plot.\n",
        "df2.plot.scatter(x='Pop_density_number_per_sq_km', y='Total_gender', title= \"Scatter plot between two variables X and Y\");"
      ],
      "execution_count": 122,
      "outputs": [
        {
          "output_type": "display_data",
          "data": {
            "image/png": "[encoded data removed]",
            "text/plain": [
              "<Figure size 432x288 with 1 Axes>"
            ]
          },
          "metadata": {
            "tags": [],
            "needs_background": "light"
          }
        }
      ]
    },
    {
      "cell_type": "markdown",
      "metadata": {
        "id": "Zc2WPCy2uPMc",
        "colab_type": "text"
      },
      "source": [
        "nairobi is outlier this is because of favourable climatic condition, job opportunities due to industralization."
      ]
    },
    {
      "cell_type": "code",
      "metadata": {
        "id": "lnso1_NzuaJG",
        "colab_type": "code",
        "colab": {
          "base_uri": "https://localhost:8080/",
          "height": 296
        },
        "outputId": "17ce9a65-3b25-4036-bdc9-708ad9355fd7"
      },
      "source": [
        "df3 = df2[df2[\"County\"]!=\"Nairobi\"]\n",
        "df3.count()\n",
        "df3.plot.scatter(x='Avg_household_size', y='Total_gender', title= \"Scatter plot between two variables X and Y\");"
      ],
      "execution_count": 128,
      "outputs": [
        {
          "output_type": "display_data",
          "data": {
            "image/png": "[encoded data removed]",
            "text/plain": [
              "<Figure size 432x288 with 1 Axes>"
            ]
          },
          "metadata": {
            "tags": [],
            "needs_background": "light"
          }
        }
      ]
    },
    {
      "cell_type": "markdown",
      "metadata": {
        "id": "3xYI-qpXwB-H",
        "colab_type": "text"
      },
      "source": [
        "The higher populated counties has low number of households and the reverse is true."
      ]
    },
    {
      "cell_type": "code",
      "metadata": {
        "id": "UpxPHjXxyVKx",
        "colab_type": "code",
        "colab": {
          "base_uri": "https://localhost:8080/",
          "height": 295
        },
        "outputId": "da09b287-4bae-4056-a9be-59782e7a8c02"
      },
      "source": [
        "# intersex and population\n",
        "df2.plot.scatter(x='Intersex', y='Total_gender', title= \"Scatter plot between two variables X and Y\");\n"
      ],
      "execution_count": 129,
      "outputs": [
        {
          "output_type": "display_data",
          "data": {
            "image/png": "[encoded data removed]",
            "text/plain": [
              "<Figure size 432x288 with 1 Axes>"
            ]
          },
          "metadata": {
            "tags": [],
            "needs_background": "light"
          }
        }
      ]
    },
    {
      "cell_type": "markdown",
      "metadata": {
        "id": "nOs3OvnZyqEt",
        "colab_type": "text"
      },
      "source": [
        "this shows the higher the population the higher the intersex. this means the more people we have the more complex gender will arise.\n"
      ]
    },
    {
      "cell_type": "code",
      "metadata": {
        "id": "DzSFqc7y2kkT",
        "colab_type": "code",
        "colab": {
          "base_uri": "https://localhost:8080/",
          "height": 371
        },
        "outputId": "c11e1d04-5b16-443f-bf3b-954171ca7d08"
      },
      "source": [
        "#checking the population distribution across counties\n",
        "df2.plot.bar(x='County', y='Total_gender', title= \"Scatter plot between two variables X and Y\");"
      ],
      "execution_count": 137,
      "outputs": [
        {
          "output_type": "display_data",
          "data": {
            "image/png": "[encoded data removed]",
            "text/plain": [
              "<Figure size 432x288 with 1 Axes>"
            ]
          },
          "metadata": {
            "tags": [],
            "needs_background": "light"
          }
        }
      ]
    },
    {
      "cell_type": "markdown",
      "metadata": {
        "id": "d1a2PGrm4HLj",
        "colab_type": "text"
      },
      "source": [
        "From above bar graph, nairobi has got the highest population and Lamu the lowest."
      ]
    },
    {
      "cell_type": "markdown",
      "metadata": {
        "id": "8LF6-6IfQfj-",
        "colab_type": "text"
      },
      "source": [
        "## **SQL**"
      ]
    },
    {
      "cell_type": "code",
      "metadata": {
        "id": "fAro_KDmWVoo",
        "colab_type": "code",
        "colab": {}
      },
      "source": [
        "# saving the cleaned Dataframe as csv in the working directory to be used in sql\n",
        "df2.to_csv(\"population1.csv\")"
      ],
      "execution_count": 104,
      "outputs": []
    },
    {
      "cell_type": "markdown",
      "metadata": {
        "id": "ONkuYz7CQ4DS",
        "colab_type": "text"
      },
      "source": [
        "This is the clean Dataset after data cleaning which we will use to answer sql queries.\n",
        "\n"
      ]
    },
    {
      "cell_type": "markdown",
      "metadata": {
        "id": "QA7QaXbj5tUz",
        "colab_type": "text"
      },
      "source": [
        "##4.0 **loading sql extention**"
      ]
    },
    {
      "cell_type": "markdown",
      "metadata": {
        "id": "aAZsvXpt52lw",
        "colab_type": "text"
      },
      "source": [
        "##4.1 loading the libraries and creating pandas Dataframe"
      ]
    },
    {
      "cell_type": "code",
      "metadata": {
        "id": "sRi1cqZ37BoX",
        "colab_type": "code",
        "colab": {}
      },
      "source": [
        "# We will first load the sql extension into our environment\n",
        "#\n",
        "%load_ext sql"
      ],
      "execution_count": null,
      "outputs": []
    },
    {
      "cell_type": "code",
      "metadata": {
        "id": "Wot2ktY2aNc6",
        "colab_type": "code",
        "colab": {}
      },
      "source": [
        "#Then connect to our in memory sqlite database\n",
        "#\n",
        "%sql sqlite://"
      ],
      "execution_count": null,
      "outputs": []
    },
    {
      "cell_type": "markdown",
      "metadata": {
        "id": "dP8Jrz-6RUD0",
        "colab_type": "text"
      },
      "source": [
        "we load sql extension and connect sqlite to enable our Dataset work."
      ]
    },
    {
      "cell_type": "markdown",
      "metadata": {
        "id": "D1vpE6SOagUW",
        "colab_type": "text"
      },
      "source": [
        "##4.2 Importing Data From a CSV File"
      ]
    },
    {
      "cell_type": "code",
      "metadata": {
        "id": "EiZztwy_ao24",
        "colab_type": "code",
        "colab": {}
      },
      "source": [
        "import csv\n",
        "import pandas as pd"
      ],
      "execution_count": null,
      "outputs": []
    },
    {
      "cell_type": "markdown",
      "metadata": {
        "id": "9ZAbBP3nfeCK",
        "colab_type": "text"
      },
      "source": [
        "The pupulation csv file can be downloaded [here](https://docs.google.com/spreadsheets/d/1MP25oy-2XG1xEMXI3Tyt4iBSS73vnnL-0XzVyLau8R8/edit?usp=sharing)"
      ]
    },
    {
      "cell_type": "code",
      "metadata": {
        "id": "lwPw6UOmg80h",
        "colab_type": "code",
        "colab": {}
      },
      "source": [
        "# Loading the first table from a local CSV file\n",
        "#\n",
        "with open('population1.csv','r') as f:\n",
        "     population1 = pd.read_csv(f, index_col=0, encoding='utf-8')\n",
        "\n",
        "# Then storing it in an SQL table in our  memory sqlite database\n",
        "#\n",
        "%sql DROP TABLE if EXISTS population1;\n",
        "%sql PERSIST population1;"
      ],
      "execution_count": null,
      "outputs": []
    },
    {
      "cell_type": "markdown",
      "metadata": {
        "id": "mbUvocdVRtMW",
        "colab_type": "text"
      },
      "source": [
        "we load our table ready for use."
      ]
    },
    {
      "cell_type": "code",
      "metadata": {
        "id": "K-w-Qn26hgig",
        "colab_type": "code",
        "colab": {}
      },
      "source": [
        "# Let's preview our population table so that we can understand it\n",
        "# Try to understand all the attributes (i.e columns)\n",
        "#\n",
        "%%sql \n",
        "select * from population1 limit 5;"
      ],
      "execution_count": null,
      "outputs": []
    },
    {
      "cell_type": "markdown",
      "metadata": {
        "id": "-6tnfJGDR7H1",
        "colab_type": "text"
      },
      "source": [
        "our dataset has the following colunms,County, Population,\tLand_area_sq_km, Pop_density-number_per_sq_km,\tMale,\tFemale,\tIntersex,\tTotal_gender\tNo_of_households, and Avg_household_size.\n",
        "\n",
        "The first colunm is for kenyan counties and it holds unique \n",
        "county names and the row represents the values of the county."
      ]
    },
    {
      "cell_type": "markdown",
      "metadata": {
        "id": "r-8C983n7DZQ",
        "colab_type": "text"
      },
      "source": [
        "## 5.0 Data analysis using SQL"
      ]
    },
    {
      "cell_type": "code",
      "metadata": {
        "id": "U3WIlJ2Ki00X",
        "colab_type": "code",
        "colab": {
          "base_uri": "https://localhost:8080/",
          "height": 95
        },
        "outputId": "5cbe401d-e91e-4fee-e365-87a2d6f02852"
      },
      "source": [
        "#5.1 Identify the total population in 2019 census\n",
        "%%sql\n",
        "SELECT SUM(population) AS \"2019 kENYAN POPULATION\" FROM population1;"
      ],
      "execution_count": 105,
      "outputs": [
        {
          "output_type": "stream",
          "text": [
            " * sqlite://\n",
            "Done.\n"
          ],
          "name": "stdout"
        },
        {
          "output_type": "execute_result",
          "data": {
            "text/html": [
              "<table>\n",
              "    <tr>\n",
              "        <th>2019 kENYAN POPULATION</th>\n",
              "    </tr>\n",
              "    <tr>\n",
              "        <td>47564296</td>\n",
              "    </tr>\n",
              "</table>"
            ],
            "text/plain": [
              "[(47564296,)]"
            ]
          },
          "metadata": {
            "tags": []
          },
          "execution_count": 105
        }
      ]
    },
    {
      "cell_type": "code",
      "metadata": {
        "id": "iNg5m1HFZPtK",
        "colab_type": "code",
        "colab": {}
      },
      "source": [
        "#5.2 Identify the most populated Counties as per the 2019 Census\n",
        "%%sql\n",
        "SELECT county as \"most populated counties\",population\n",
        "FROM population1\n",
        "GROUP BY population\n",
        "ORDER BY population DESC limit 5;\n"
      ],
      "execution_count": null,
      "outputs": []
    },
    {
      "cell_type": "code",
      "metadata": {
        "id": "gK_DKNpQhpJm",
        "colab_type": "code",
        "colab": {}
      },
      "source": [
        "#5.3 Identify the most densely populated county per sq.km.\n",
        "%%sql\n",
        "SELECT county as \"most densily pop county\",Pop_density_number_per_sq_km\n",
        "FROM population1\n",
        "GROUP BY Pop_density_number_per_sq_km\n",
        "ORDER BY Pop_density_number_per_sq_km DESC limit 5;\n"
      ],
      "execution_count": null,
      "outputs": []
    },
    {
      "cell_type": "code",
      "metadata": {
        "id": "bfOnvfEWZoMw",
        "colab_type": "code",
        "colab": {}
      },
      "source": [
        "#5.4 Identify the county with the highest average households\n",
        "#\n",
        "%%sql\n",
        "SELECT county as \"highest avg hoosehold counties\",Avg_household_size\n",
        "FROM population1\n",
        "GROUP BY Avg_household_size\n",
        "ORDER BY Avg_household_size DESC limit 5;"
      ],
      "execution_count": null,
      "outputs": []
    },
    {
      "cell_type": "code",
      "metadata": {
        "id": "EHKKBDASZ-Wj",
        "colab_type": "code",
        "colab": {}
      },
      "source": [
        "#5.5 Identify the county with the highest land area per sqaure kilometer\n",
        "#\n",
        "%%sql\n",
        "SELECT county as \"counties with highest land area\",Land_area_sq_km\n",
        "FROM population1\n",
        "GROUP BY Land_area_sq_km\n",
        "ORDER BY Land_area_sq_km DESC limit 5;"
      ],
      "execution_count": null,
      "outputs": []
    },
    {
      "cell_type": "markdown",
      "metadata": {
        "id": "A2U8PQ0ga6ht",
        "colab_type": "text"
      },
      "source": [
        "The county with the highest land area was Marsabit followed by Turkana."
      ]
    },
    {
      "cell_type": "code",
      "metadata": {
        "id": "g97QkQvvaM_L",
        "colab_type": "code",
        "colab": {}
      },
      "source": [
        "#5.6 The least sparsely populated counties?\n",
        "#\n",
        "%%sql\n",
        "SELECT county as \"least populated counties\",population\n",
        "FROM population1\n",
        "GROUP BY population\n",
        "ORDER BY population ASC limit 5;\n"
      ],
      "execution_count": null,
      "outputs": []
    },
    {
      "cell_type": "markdown",
      "metadata": {
        "id": "Kbx28gPMaQ-f",
        "colab_type": "text"
      },
      "source": [
        "The least populated county as per  2019 census was Lamu, followed by Isiolo."
      ]
    },
    {
      "cell_type": "code",
      "metadata": {
        "id": "zk6T1Vp0bFmA",
        "colab_type": "code",
        "colab": {}
      },
      "source": [
        "#5.7 The least densely  populated county per sq.km\n",
        "%%sql\n",
        "SELECT county as \"Least densely populated counties\",Pop_density_number_per_sq_km\n",
        "FROM population1\n",
        "GROUP BY Pop_density_number_per_sq_km\n",
        "ORDER BY Pop_density_number_per_sq_km ASC limit 5;\n"
      ],
      "execution_count": null,
      "outputs": []
    },
    {
      "cell_type": "markdown",
      "metadata": {
        "id": "9ZqBtxggZ1WV",
        "colab_type": "text"
      },
      "source": [
        "the least densely populated county was Marsabit followed by Tana River,Isiolo and Turkana"
      ]
    },
    {
      "cell_type": "markdown",
      "metadata": {
        "id": "2xXiF6aGZe8a",
        "colab_type": "text"
      },
      "source": [
        "**we were able to carry out our analysis with both python pandas and SQL and the dive impressive similar results.**"
      ]
    },
    {
      "cell_type": "markdown",
      "metadata": {
        "id": "d-mWk-8WYa0l",
        "colab_type": "text"
      },
      "source": [
        "## **Recomendations**\n",
        "---\n",
        "*   From our analysis, we would recommend that the government prioritize on allocating more finances to Nairobi and Kiambu county. However, Mombasa should be considered as well since it's the 3rd most populated per square kilometer. The government should increase infrastructures like water supply, roads as well as security since the crime rate might mushroom because of the high population. \n",
        "*  The government should consider power generation  in Marsabit using solar which will add power to national grid, this is because of high land mass.\n",
        "Farming can be done in Marsabit as well using irrigration. \n",
        "*   The highest average household size was in Marsabit and Wajir counties. This can be as a result of family attachment culture..\n",
        "*   we also noticed a sizeable number of intersex gender across counties and advised the government to consider them as well since there is no catering for their plights, for instance, all government documents do not mention intersex gender.\n",
        "\n",
        "\n",
        "\n",
        "\n",
        "\n",
        "\n"
      ]
    }
  ]
}